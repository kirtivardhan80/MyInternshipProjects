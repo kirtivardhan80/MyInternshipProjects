{
 "cells": [
  {
   "cell_type": "markdown",
   "id": "d4bf6ad6",
   "metadata": {},
   "source": [
    "# Basic quiz game"
   ]
  },
  {
   "cell_type": "code",
   "execution_count": 2,
   "id": "b3d0128b",
   "metadata": {},
   "outputs": [
    {
     "name": "stdout",
     "output_type": "stream",
     "text": [
      "What is the capital of France?\n",
      "1. Paris\n",
      "2. Berlin\n",
      "3. Rome\n",
      "Your answer (enter the corresponding number): 1\n",
      "Correct!\n",
      "Which programming language is this quiz written in?\n",
      "1. Java\n",
      "2. Python\n",
      "3. C++\n",
      "Your answer (enter the corresponding number): 2\n",
      "Correct!\n",
      "What is the largest mammal?\n",
      "1. Elephant\n",
      "2. Blue Whale\n",
      "3. Giraffe\n",
      "Your answer (enter the corresponding number): 2\n",
      "Correct!\n",
      "\n",
      "Your Final Score: 3/3\n"
     ]
    }
   ],
   "source": [
    "import random\n",
    "\n",
    "class QuizGame:\n",
    "    def __init__(self, questions):\n",
    "        # Initialize the QuizGame with a list of questions and set the initial score to 0\n",
    "        self.questions = questions\n",
    "        self.score = 0\n",
    "\n",
    "    def display_question(self, question, options):\n",
    "        # Display the current question and its multiple-choice options\n",
    "        print(question)\n",
    "        for i, option in enumerate(options, start=1):\n",
    "            print(f\"{i}. {option}\")\n",
    "        user_answer = input(\"Your answer (enter the corresponding number): \")\n",
    "        return int(user_answer) - 1  # Adjusting for zero-based index\n",
    "\n",
    "    def check_answer(self, user_answer, correct_answer):\n",
    "        # Check if the user's answer is correct and update the score accordingly\n",
    "        if user_answer == correct_answer:\n",
    "            print(\"Correct!\")\n",
    "            self.score += 1\n",
    "        else:\n",
    "            print(f\"Wrong! The correct answer is: {correct_answer + 1}\")\n",
    "\n",
    "    def run_quiz(self):\n",
    "        # Iterate through each question, display it, get user input, and check the answer\n",
    "        for question, options, correct_answer in self.questions:\n",
    "            user_answer = self.display_question(question, options)\n",
    "            self.check_answer(user_answer, correct_answer)\n",
    "\n",
    "        # Display the final score at the end of the quiz\n",
    "        print(f\"\\nYour Final Score: {self.score}/{len(self.questions)}\")\n",
    "\n",
    "# Example Quiz\n",
    "questions_list = [\n",
    "    (\"What is the capital of France?\", [\"Paris\", \"Berlin\", \"Rome\"], 0),\n",
    "    (\"Which programming language is this quiz written in?\", [\"Java\", \"Python\", \"C++\"], 1),\n",
    "    (\"What is the largest mammal?\", [\"Elephant\", \"Blue Whale\", \"Giraffe\"], 1),\n",
    "]\n",
    "\n",
    "# Create an instance of the QuizGame and run the quiz\n",
    "quiz = QuizGame(questions_list)\n",
    "quiz.run_quiz()\n"
   ]
  },
  {
   "cell_type": "code",
   "execution_count": null,
   "id": "87389bdd",
   "metadata": {},
   "outputs": [],
   "source": []
  }
 ],
 "metadata": {
  "kernelspec": {
   "display_name": "Python 3 (ipykernel)",
   "language": "python",
   "name": "python3"
  },
  "language_info": {
   "codemirror_mode": {
    "name": "ipython",
    "version": 3
   },
   "file_extension": ".py",
   "mimetype": "text/x-python",
   "name": "python",
   "nbconvert_exporter": "python",
   "pygments_lexer": "ipython3",
   "version": "3.11.4"
  }
 },
 "nbformat": 4,
 "nbformat_minor": 5
}
