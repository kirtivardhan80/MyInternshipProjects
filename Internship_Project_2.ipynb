{
 "cells": [
  {
   "cell_type": "markdown",
   "id": "eccbba88",
   "metadata": {},
   "source": [
    "# Word Counter"
   ]
  },
  {
   "cell_type": "code",
   "execution_count": 2,
   "id": "6023e07e",
   "metadata": {},
   "outputs": [
    {
     "name": "stderr",
     "output_type": "stream",
     "text": [
      "Exception in Tkinter callback\n",
      "Traceback (most recent call last):\n",
      "  File \"C:\\ProgramData\\anaconda3\\Lib\\tkinter\\__init__.py\", line 1968, in __call__\n",
      "    return self.func(*args)\n",
      "           ^^^^^^^^^^^^^^^^\n",
      "  File \"C:\\Users\\kirti\\AppData\\Local\\Temp\\ipykernel_20944\\3533617061.py\", line 22, in on_submit\n",
      "    word_count = count_words(user_input_text)\n",
      "                 ^^^^^^^^^^^^^^^^^^^^^^^^^^^^\n",
      "  File \"C:\\Users\\kirti\\AppData\\Local\\Temp\\ipykernel_20944\\3533617061.py\", line 11, in count_words\n",
      "    words = re.findall(r'\\b\\w+\\b', text)\n",
      "            ^^\n",
      "NameError: name 're' is not defined. Did you forget to import 're'\n"
     ]
    }
   ],
   "source": [
    "import tkinter as tk\n",
    "from tkinter import Label, Entry, Button\n",
    "\n",
    "# Function to count words in a given text\n",
    "def count_words(text):\n",
    "    # Handling potential errors (empty input)\n",
    "    if not text:\n",
    "        return 0\n",
    "\n",
    "    # Using regex to find all words in the input text\n",
    "    words = re.findall(r'\\b\\w+\\b', text)\n",
    "    \n",
    "    # Returning the count of words\n",
    "    return len(words)\n",
    "\n",
    "# Function to handle button click event\n",
    "def on_submit():\n",
    "    # Get user input from the Entry widget\n",
    "    user_input_text = entry.get()\n",
    "\n",
    "    # Call the function to count words\n",
    "    word_count = count_words(user_input_text)\n",
    "\n",
    "    # Update the label with the word count\n",
    "    result_label.config(text=f\"Word Count: {word_count}\")\n",
    "\n",
    "# Creating the main window\n",
    "window = tk.Tk()\n",
    "window.title(\"Word Count Tool\")\n",
    "\n",
    "# Label and Entry for user input\n",
    "input_label = Label(window, text=\"Enter a sentence or paragraph:\")\n",
    "input_label.pack(pady=10)\n",
    "entry = Entry(window, width=50)\n",
    "entry.pack(pady=10)\n",
    "\n",
    "# Button to submit the input\n",
    "submit_button = Button(window, text=\"Submit\", command=on_submit)\n",
    "submit_button.pack(pady=10)\n",
    "\n",
    "# Label to display the word count result\n",
    "result_label = Label(window, text=\"\")\n",
    "result_label.pack(pady=10)\n",
    "\n",
    "# Run the Tkinter event loop\n",
    "window.mainloop()\n"
   ]
  },
  {
   "cell_type": "code",
   "execution_count": null,
   "id": "1a9ec463",
   "metadata": {},
   "outputs": [],
   "source": []
  }
 ],
 "metadata": {
  "kernelspec": {
   "display_name": "Python 3 (ipykernel)",
   "language": "python",
   "name": "python3"
  },
  "language_info": {
   "codemirror_mode": {
    "name": "ipython",
    "version": 3
   },
   "file_extension": ".py",
   "mimetype": "text/x-python",
   "name": "python",
   "nbconvert_exporter": "python",
   "pygments_lexer": "ipython3",
   "version": "3.12.4"
  }
 },
 "nbformat": 4,
 "nbformat_minor": 5
}
